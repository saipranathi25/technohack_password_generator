{
  "nbformat": 4,
  "nbformat_minor": 0,
  "metadata": {
    "colab": {
      "provenance": [],
      "authorship_tag": "ABX9TyPaslsuqfgzrx0xpguyCwqA",
      "include_colab_link": true
    },
    "kernelspec": {
      "name": "python3",
      "display_name": "Python 3"
    },
    "language_info": {
      "name": "python"
    }
  },
  "cells": [
    {
      "cell_type": "markdown",
      "metadata": {
        "id": "view-in-github",
        "colab_type": "text"
      },
      "source": [
        "<a href=\"https://colab.research.google.com/github/saipranathi25/technohack_password_generator/blob/main/password_generator.ipynb\" target=\"_parent\"><img src=\"https://colab.research.google.com/assets/colab-badge.svg\" alt=\"Open In Colab\"/></a>"
      ]
    },
    {
      "cell_type": "code",
      "execution_count": null,
      "metadata": {
        "colab": {
          "base_uri": "https://localhost:8080/"
        },
        "id": "2XY9-bRat0Rj",
        "outputId": "7aab79a3-0fe0-494e-a926-16b43c2b394a"
      },
      "outputs": [
        {
          "output_type": "stream",
          "name": "stdout",
          "text": [
            "Random password is: x3x2'U(A\n"
          ]
        }
      ],
      "source": [
        "import random\n",
        "import string\n",
        "chars=string.ascii_letters+string.digits+string.punctuation\n",
        "password=''.join(random.choice(chars)for i in range(8))\n",
        "print(\"Random password is:\",password)"
      ]
    },
    {
      "cell_type": "code",
      "source": [
        "import random\n",
        "def password_gen(char_length,num_length,symbol_length):\n",
        "  c=\"abcdefghijklmnopqrstuvwxyzABCDEFGHIJKLMNOPQRSTUVWXYZ\"\n",
        "  nums=\"0123456789\"\n",
        "  symbols=\"!@#$%^&*()\"\n",
        "\n",
        "  selectedchars=random.sample(c,char_length)\n",
        "  selectednums=random.sample(nums,num_length)\n",
        "  selectedsymbols=random.sample(symbols,symbol_length)\n",
        "\n",
        "  password_list=selectedchars+selectednums+selectedsymbols\n",
        "\n",
        "  random.shuffle(password_list)\n",
        "  password_str=''.join(password_list)\n",
        "  return password_str\n",
        "char_length=int(input(\"Enter the number of characters in your password\"))\n",
        "num_length=int(input(\"Enter the number of numbers in your password\"))\n",
        "symbol_length=int(input(\"Enter the number of symbols in your password\"))\n",
        "password=password_gen(char_length,num_length,symbol_length)\n",
        "print(\"The randomly generated password is: \",password)"
      ],
      "metadata": {
        "colab": {
          "base_uri": "https://localhost:8080/"
        },
        "id": "r9yfertlu1lN",
        "outputId": "46c80eca-ab40-4251-e402-065fdb70cd55"
      },
      "execution_count": null,
      "outputs": [
        {
          "output_type": "stream",
          "name": "stdout",
          "text": [
            "Enter the number of characters in your password3\n",
            "Enter the number of numbers in your password5\n",
            "Enter the number of symbols in your password2\n",
            "The randomly generated password is:  872$#Nf5E3\n"
          ]
        }
      ]
    }
  ]
}